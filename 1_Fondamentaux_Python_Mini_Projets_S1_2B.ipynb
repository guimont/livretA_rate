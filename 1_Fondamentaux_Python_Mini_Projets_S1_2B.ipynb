{
  "nbformat": 4,
  "nbformat_minor": 0,
  "metadata": {
    "colab": {
      "name": "1. Fondamentaux Python Mini Projets S1-2B.ipynb",
      "provenance": [],
      "collapsed_sections": []
    },
    "kernelspec": {
      "name": "python3",
      "display_name": "Python 3"
    }
  },
  "cells": [
    {
      "cell_type": "markdown",
      "metadata": {
        "id": "1NCGks54kp_n",
        "colab_type": "text"
      },
      "source": [
        "# Combien vous rapporte votre livret A ?"
      ]
    },
    {
      "cell_type": "code",
      "metadata": {
        "id": "3KxNoxvn-YqK",
        "colab_type": "code",
        "colab": {}
      },
      "source": [
        ""
      ],
      "execution_count": 0,
      "outputs": []
    },
    {
      "cell_type": "code",
      "metadata": {
        "id": "aR1cy2gF-Y4f",
        "colab_type": "code",
        "colab": {}
      },
      "source": [
        ""
      ],
      "execution_count": 0,
      "outputs": []
    },
    {
      "cell_type": "markdown",
      "metadata": {
        "id": "75Xe4f7vksGZ",
        "colab_type": "text"
      },
      "source": [
        "Il parait que si Christophe Colomb avait mis 1€ de côté qu’il avait laissé à 2% d’intérêt par an, aujourd’hui ses héritiers n’auraient plus besoin de travailler pour vivre leur vie. Essayons de calculer la même chose pour notre livret A. "
      ]
    },
    {
      "cell_type": "markdown",
      "metadata": {
        "id": "v4ugjwIakv2c",
        "colab_type": "text"
      },
      "source": [
        "1. Créons donc une fonction qui va nous permettre de savoir combien d’argent un utilisateur aura au total au bout d’un certain nombre d’années\n",
        "\n",
        "2. L’utilisateur devra pouvoir appeler la fonction qui ensuite lui demandera :\n",
        "\n",
        "    1. La somme totale qu’il souhaite placer\n",
        "    2. Le nombre d’années pendant lesquelles il souhaite placer son argent\n",
        "    3. Le taux d’intérêt auquel il a droit\n",
        "    \n",
        "3. Faite attention aux erreurs que peut rentrer l’utilisateur\n",
        "\n",
        "    4. S’il entre une chaîne de caractères plutôt qu’un nombre, une erreur devra ressortir\n",
        "    5. Si l’utilisateur met des chiffres négatifs, une erreur devra, de même, sortir\n",
        "    6. Enfin, il est très probable que l’utilisateur écrive le taux d’intérêt en pourcentage (ex: 10%). Levez une erreur si tel est le cas pour le prévenir de mettre un nombre décimal\n",
        "    \n",
        "4. Pour terminer, le programme devra ressortir qu’un chiffre avec au maximum deux chiffres après la virgule.\n"
      ]
    },
    {
      "cell_type": "code",
      "metadata": {
        "id": "ovkcocqXkp2k",
        "colab_type": "code",
        "outputId": "09461460-38d6-4fbd-c332-1aa232739747",
        "colab": {
          "base_uri": "https://localhost:8080/",
          "height": 34
        }
      },
      "source": [
        "def calc_rate(funds, years, rate):\n",
        "  try:\n",
        "    \n",
        "    if funds < 0 or years < 0:\n",
        "      raise ValueError(\"On ne peut pas mettre de valeur négative\")\n",
        "    if rate > 1:\n",
        "      raise SyntaxError(\"Le taux d'interet est superieur a 1\")\n",
        "    \n",
        "    for i in range (years):\n",
        "      funds += funds*rate\n",
        "    return funds\n",
        "  except ValueError as error:\n",
        "        print(error)\n",
        "  except SyntaxError as error:\n",
        "        print(error)\n",
        "  except TypeError:\n",
        "        print(\"Ne mettez qu'un nombre dans les paramètres\")\n",
        "  except:\n",
        "    print(\"stop mettre de la merde que j'ai pas detecté\")\n",
        "    \n",
        "    \n",
        "try:    \n",
        "  print(\"{:8.2f}\".format(calc_rate(1000, 10, .1)))\n",
        "except:\n",
        "  print (\"une erreur est survenue\")"
      ],
      "execution_count": 0,
      "outputs": [
        {
          "output_type": "stream",
          "text": [
            "13430198.94\n"
          ],
          "name": "stdout"
        }
      ]
    },
    {
      "cell_type": "code",
      "metadata": {
        "id": "W-GfW6_maeUY",
        "colab_type": "code",
        "colab": {}
      },
      "source": [
        ""
      ],
      "execution_count": 0,
      "outputs": []
    },
    {
      "cell_type": "code",
      "metadata": {
        "id": "K_2poSknltX4",
        "colab_type": "code",
        "colab": {}
      },
      "source": [
        ""
      ],
      "execution_count": 0,
      "outputs": []
    }
  ]
}